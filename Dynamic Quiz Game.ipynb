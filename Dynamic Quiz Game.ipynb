{
 "cells": [
  {
   "cell_type": "code",
   "execution_count": 4,
   "id": "0d6f691f-de33-41f4-a8c5-d5c708795d15",
   "metadata": {},
   "outputs": [
    {
     "name": "stdin",
     "output_type": "stream",
     "text": [
      "Do you want to play?  YES\n"
     ]
    },
    {
     "name": "stdout",
     "output_type": "stream",
     "text": [
      "Okay Let's play :)\n"
     ]
    },
    {
     "name": "stdin",
     "output_type": "stream",
     "text": [
      "What does CPU stands for ?  CENTRAL PROCESSING UNIT\n"
     ]
    },
    {
     "name": "stdout",
     "output_type": "stream",
     "text": [
      "Correct!\n"
     ]
    },
    {
     "name": "stdin",
     "output_type": "stream",
     "text": [
      "What does RAM stands for ?  RAM\n"
     ]
    },
    {
     "name": "stdout",
     "output_type": "stream",
     "text": [
      "Incorrect!\n"
     ]
    },
    {
     "name": "stdin",
     "output_type": "stream",
     "text": [
      "What does GPU stands for ?  GRAPHICS PROCESSING UNIT\n"
     ]
    },
    {
     "name": "stdout",
     "output_type": "stream",
     "text": [
      "Correct!\n"
     ]
    },
    {
     "name": "stdin",
     "output_type": "stream",
     "text": [
      "What does PSU stands for ?  POWER SUPPLY UNIT\n"
     ]
    },
    {
     "name": "stdout",
     "output_type": "stream",
     "text": [
      "Correct!\n",
      "Your have got 3 questions correct.\n"
     ]
    }
   ],
   "source": [
    "import sys\n",
    "playing = input(\"Do you want to play? \")\n",
    "\n",
    "if playing.lower() != \"yes\":\n",
    "   print(\"Thank You!\")\n",
    "    \n",
    "else:\n",
    " print(\"Okay Let's play :)\")\n",
    "\n",
    " score = 0\n",
    "\n",
    " question_answer = {\n",
    "    \"What does CPU stands for ? \" : \"central processing unit\",\n",
    "    \"What does RAM stands for ? \" : \"random access memory\",\n",
    "    \"What does GPU stands for ? \" : \"graphics processing unit\",\n",
    "    \"What does PSU stands for ? \" : \"power supply unit\"\n",
    " }\n",
    "\n",
    " for question, answer in question_answer.items():\n",
    "    userInput = input(question)\n",
    "    if userInput.lower() == answer:\n",
    "        print ('Correct!')\n",
    "        score += 1\n",
    "    else:\n",
    "        print('Incorrect!')\n",
    "\n",
    " print (\"Your have got \" + str(score) + \" questions correct.\" )\n",
    "        "
   ]
  },
  {
   "cell_type": "code",
   "execution_count": null,
   "id": "be6fd139-c7f3-4526-9f87-57b46e484f11",
   "metadata": {},
   "outputs": [],
   "source": []
  }
 ],
 "metadata": {
  "kernelspec": {
   "display_name": "Python 3 (ipykernel)",
   "language": "python",
   "name": "python3"
  },
  "language_info": {
   "codemirror_mode": {
    "name": "ipython",
    "version": 3
   },
   "file_extension": ".py",
   "mimetype": "text/x-python",
   "name": "python",
   "nbconvert_exporter": "python",
   "pygments_lexer": "ipython3",
   "version": "3.11.8"
  }
 },
 "nbformat": 4,
 "nbformat_minor": 5
}
