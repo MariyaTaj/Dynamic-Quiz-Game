{
 "cells": [
  {
   "cell_type": "code",
   "execution_count": 5,
   "id": "ba3c17a8-015e-4abe-98d0-ab4e7dee5a6a",
   "metadata": {},
   "outputs": [],
   "source": []
  },
  {
   "cell_type": "code",
   "execution_count": 6,
   "id": "655967e6-de80-4877-8c05-1f96ed34cd9a",
   "metadata": {},
   "outputs": [],
   "source": []
  },
  {
   "cell_type": "code",
   "execution_count": 7,
   "id": "b2de02f2-5630-415d-9e6a-539850bdb56e",
   "metadata": {},
   "outputs": [],
   "source": []
  },
  {
   "cell_type": "code",
   "execution_count": 11,
   "id": "4a82a29c-a8ce-48d6-bfd5-22ee44d73d45",
   "metadata": {},
   "outputs": [
    {
     "name": "stdin",
     "output_type": "stream",
     "text": [
      "What is the master password?  mariya2\n",
      "Would you like to add a new password or view existing ones (view, add), OR Press q to quit.  view\n"
     ]
    },
    {
     "name": "stdout",
     "output_type": "stream",
     "text": [
      "User: mariya | Password: taj\n"
     ]
    },
    {
     "name": "stdin",
     "output_type": "stream",
     "text": [
      "Would you like to add a new password or view existing ones (view, add), OR Press q to quit.  q\n"
     ]
    }
   ],
   "source": [
    "import random\n",
    "\n",
    "from cryptography.fernet import Fernet\n",
    "\n",
    "'''\n",
    "def write_key():\n",
    "    key = Fernet.generate_key()\n",
    "    with open(\"key.key\", \"wb\") as key_file:\n",
    "        key_file.write(key)'''\n",
    "\n",
    "def load_key():\n",
    "    file = open(\"key.key\", \"rb\")\n",
    "    key = file.read()\n",
    "    file.close()\n",
    "    return key\n",
    "\n",
    "master_pwd = input(\"What is the master password? \")\n",
    "\n",
    "key = load_key() + master_pwd.encode()\n",
    "\n",
    "fer = Fernet(key)\n",
    "\n",
    "def view():\n",
    "    with open('passwords.txt', 'r') as f:\n",
    "        for line in f.readlines():\n",
    "            data = line.rstrip()\n",
    "            user, passw = data.split(\"|\")  # split returns a list after spliting\n",
    "            print(\"User:\", user, \"| Password:\", fer.decrypt(passw.encode()).decode())\n",
    "\n",
    "def add():\n",
    "    name = input('Account name: ')\n",
    "    pwd = input(\"Password: \")\n",
    "\n",
    "    with open('passwords.txt', 'a') as f:   #closes the file automatically\n",
    "        f.write(name + \"|\" + fer.encrypt(pwd.encode()).decode() + \"\\n\")\n",
    "        \n",
    "\n",
    "\n",
    "while True:\n",
    " mode = input(\"Would you like to add a new password or view existing ones (view, add), OR Press q to quit. \").lower()\n",
    "\n",
    " if mode == \"q\":\n",
    "     break\n",
    " if mode == \"view\":\n",
    "     view()\n",
    " elif mode == \"add\":\n",
    "     add()\n",
    " else:\n",
    "     print(\"Invalid mode\")\n",
    "     continue"
   ]
  },
  {
   "cell_type": "code",
   "execution_count": null,
   "id": "c6c627ff-31e0-4885-a65c-c6e745ca1d59",
   "metadata": {},
   "outputs": [],
   "source": []
  }
 ],
 "metadata": {
  "kernelspec": {
   "display_name": "Python 3 (ipykernel)",
   "language": "python",
   "name": "python3"
  },
  "language_info": {
   "codemirror_mode": {
    "name": "ipython",
    "version": 3
   },
   "file_extension": ".py",
   "mimetype": "text/x-python",
   "name": "python",
   "nbconvert_exporter": "python",
   "pygments_lexer": "ipython3",
   "version": "3.11.8"
  }
 },
 "nbformat": 4,
 "nbformat_minor": 5
}
