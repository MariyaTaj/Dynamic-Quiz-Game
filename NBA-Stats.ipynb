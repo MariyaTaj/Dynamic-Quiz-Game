{
 "cells": [
  {
   "cell_type": "code",
   "execution_count": 2,
   "id": "1b05e234-4b7c-491b-b2e9-22980cd33606",
   "metadata": {},
   "outputs": [],
   "source": [
    "from requests import get\n",
    "from pprint import PrettyPrinter\n",
    "\n",
    "BASE_URL = \"https://data.nba.net\"\n",
    "ALL_JSON = \"/prod/v1/today.json\"\n",
    "\n",
    "printer = PrettyPrinter()\n",
    "\n",
    "\n",
    "def get_links():\n",
    "    data = get(BASE_URL + ALL_JSON).json()\n",
    "    links = data['links']\n",
    "    return links\n",
    "\n",
    "\n",
    "def get_scoreboard():\n",
    "    scoreboard = get_links()['currentScoreboard']\n",
    "    games = get(BASE_URL + scoreboard).json()['games']\n",
    "\n",
    "    for game in games:\n",
    "        home_team = game['hTeam']\n",
    "        away_team = game['vTeam']\n",
    "        clock = game['clock']\n",
    "        period = game['period']\n",
    "\n",
    "        print(\"------------------------------------------\")\n",
    "        print(f\"{home_team['triCode']} vs {away_team['triCode']}\")\n",
    "        print(f\"{home_team['score']} - {away_team['score']}\")\n",
    "        print(f\"{clock} - {period['current']}\")\n",
    "\n",
    "\n",
    "def get_stats():\n",
    "    stats = get_links()['leagueTeamStatsLeaders']\n",
    "    teams = get(\n",
    "        BASE_URL + stats).json()['league']['standard']['regularSeason']['teams']\n",
    "\n",
    "    teams = list(filter(lambda x: x['name'] != \"Team\", teams))\n",
    "    teams.sort(key=lambda x: int(x['ppg']['rank']))\n",
    "\n",
    "    for i, team in enumerate(teams):\n",
    "        name = team['name']\n",
    "        nickname = team['nickname']\n",
    "        ppg = team['ppg']['avg']\n",
    "        print(f\"{i + 1}. {name} - {nickname} - {ppg}\")\n",
    "\n",
    "get_stats()\n",
    "get_scoreboard()"
   ]
  },
  {
   "cell_type": "code",
   "execution_count": null,
   "id": "e2bcc968-2b1c-4a80-aba3-9208e62c7827",
   "metadata": {},
   "outputs": [],
   "source": []
  },
  {
   "cell_type": "code",
   "execution_count": null,
   "id": "00c01793-46bb-4c14-9d9d-9f23e8d72f67",
   "metadata": {},
   "outputs": [],
   "source": []
  }
 ],
 "metadata": {
  "kernelspec": {
   "display_name": "Python 3 (ipykernel)",
   "language": "python",
   "name": "python3"
  },
  "language_info": {
   "codemirror_mode": {
    "name": "ipython",
    "version": 3
   },
   "file_extension": ".py",
   "mimetype": "text/x-python",
   "name": "python",
   "nbconvert_exporter": "python",
   "pygments_lexer": "ipython3",
   "version": "3.11.8"
  }
 },
 "nbformat": 4,
 "nbformat_minor": 5
}
